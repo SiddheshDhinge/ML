{
 "cells": [
  {
   "cell_type": "code",
   "execution_count": 1,
   "id": "26e88a07",
   "metadata": {},
   "outputs": [],
   "source": [
    "import pandas as pd\n",
    "import numpy as np\n",
    "from apyori import apriori"
   ]
  },
  {
   "cell_type": "code",
   "execution_count": 2,
   "id": "da93696e",
   "metadata": {},
   "outputs": [],
   "source": [
    "df = pd.read_csv('Market_Basket_Optimisation.csv')"
   ]
  },
  {
   "cell_type": "code",
   "execution_count": 3,
   "id": "de55ce21",
   "metadata": {},
   "outputs": [],
   "source": [
    "r = []\n",
    "tmp = df.values;\n",
    "for i in range(df.shape[0]):\n",
    "    r.append([str(tmp[i][j]) for j in range(df.shape[1])])"
   ]
  },
  {
   "cell_type": "code",
   "execution_count": 4,
   "id": "2ff0ec93",
   "metadata": {},
   "outputs": [],
   "source": [
    "m = apriori(r, min_support = 0.003, min_confidence =0.5, min_lift = 3, min_length = 2)"
   ]
  },
  {
   "cell_type": "code",
   "execution_count": 5,
   "id": "a75bac04",
   "metadata": {},
   "outputs": [
    {
     "name": "stdout",
     "output_type": "stream",
     "text": [
      "[RelationRecord(items=frozenset({'cereals', 'ground beef', 'spaghetti'}), support=0.0030666666666666668, ordered_statistics=[OrderedStatistic(items_base=frozenset({'cereals', 'ground beef'}), items_add=frozenset({'spaghetti'}), confidence=0.676470588235294, lift=3.884785154490586)]), RelationRecord(items=frozenset({'chicken', 'olive oil', 'milk'}), support=0.0036, ordered_statistics=[OrderedStatistic(items_base=frozenset({'chicken', 'olive oil'}), items_add=frozenset({'milk'}), confidence=0.5, lift=3.858024691358025)]), RelationRecord(items=frozenset({'cooking oil', 'ground beef', 'spaghetti'}), support=0.0048, ordered_statistics=[OrderedStatistic(items_base=frozenset({'cooking oil', 'ground beef'}), items_add=frozenset({'spaghetti'}), confidence=0.5714285714285714, lift=3.281557646029315)]), RelationRecord(items=frozenset({'eggs', 'red wine', 'spaghetti'}), support=0.0037333333333333333, ordered_statistics=[OrderedStatistic(items_base=frozenset({'eggs', 'red wine'}), items_add=frozenset({'spaghetti'}), confidence=0.5283018867924528, lift=3.0338929180271026)]), RelationRecord(items=frozenset({'milk', 'soup', 'frozen vegetables'}), support=0.004, ordered_statistics=[OrderedStatistic(items_base=frozenset({'soup', 'frozen vegetables'}), items_add=frozenset({'milk'}), confidence=0.5, lift=3.858024691358025)]), RelationRecord(items=frozenset({'shrimp', 'ground beef', 'spaghetti'}), support=0.006, ordered_statistics=[OrderedStatistic(items_base=frozenset({'shrimp', 'ground beef'}), items_add=frozenset({'spaghetti'}), confidence=0.5232558139534884, lift=3.004914704939635)]), RelationRecord(items=frozenset({'tomato sauce', 'ground beef', 'spaghetti'}), support=0.0030666666666666668, ordered_statistics=[OrderedStatistic(items_base=frozenset({'tomato sauce', 'ground beef'}), items_add=frozenset({'spaghetti'}), confidence=0.5750000000000001, lift=3.302067381316999)]), RelationRecord(items=frozenset({'tomatoes', 'olive oil', 'spaghetti'}), support=0.0044, ordered_statistics=[OrderedStatistic(items_base=frozenset({'tomatoes', 'olive oil'}), items_add=frozenset({'spaghetti'}), confidence=0.6111111111111112, lift=3.50944359367024)]), RelationRecord(items=frozenset({'cereals', 'spaghetti', 'ground beef', 'nan'}), support=0.0030666666666666668, ordered_statistics=[OrderedStatistic(items_base=frozenset({'cereals', 'ground beef'}), items_add=frozenset({'nan', 'spaghetti'}), confidence=0.676470588235294, lift=3.884785154490586), OrderedStatistic(items_base=frozenset({'cereals', 'ground beef', 'nan'}), items_add=frozenset({'spaghetti'}), confidence=0.676470588235294, lift=3.884785154490586)]), RelationRecord(items=frozenset({'olive oil', 'chicken', 'nan', 'milk'}), support=0.0036, ordered_statistics=[OrderedStatistic(items_base=frozenset({'chicken', 'olive oil'}), items_add=frozenset({'milk', 'nan'}), confidence=0.5, lift=3.858024691358025), OrderedStatistic(items_base=frozenset({'chicken', 'olive oil', 'nan'}), items_add=frozenset({'milk'}), confidence=0.5, lift=3.858024691358025)]), RelationRecord(items=frozenset({'chocolate', 'spaghetti', 'ground beef', 'frozen vegetables'}), support=0.0030666666666666668, ordered_statistics=[OrderedStatistic(items_base=frozenset({'chocolate', 'ground beef', 'frozen vegetables'}), items_add=frozenset({'spaghetti'}), confidence=0.5348837209302326, lift=3.0716905872716267)]), RelationRecord(items=frozenset({'cooking oil', 'ground beef', 'spaghetti', 'nan'}), support=0.0048, ordered_statistics=[OrderedStatistic(items_base=frozenset({'cooking oil', 'ground beef'}), items_add=frozenset({'nan', 'spaghetti'}), confidence=0.5714285714285714, lift=3.281557646029315), OrderedStatistic(items_base=frozenset({'cooking oil', 'ground beef', 'nan'}), items_add=frozenset({'spaghetti'}), confidence=0.5714285714285714, lift=3.281557646029315)]), RelationRecord(items=frozenset({'eggs', 'spaghetti', 'red wine', 'nan'}), support=0.0037333333333333333, ordered_statistics=[OrderedStatistic(items_base=frozenset({'eggs', 'red wine'}), items_add=frozenset({'nan', 'spaghetti'}), confidence=0.5283018867924528, lift=3.0338929180271026), OrderedStatistic(items_base=frozenset({'eggs', 'red wine', 'nan'}), items_add=frozenset({'spaghetti'}), confidence=0.5283018867924528, lift=3.0338929180271026)]), RelationRecord(items=frozenset({'milk', 'spaghetti', 'ground beef', 'frozen vegetables'}), support=0.0030666666666666668, ordered_statistics=[OrderedStatistic(items_base=frozenset({'milk', 'ground beef', 'frozen vegetables'}), items_add=frozenset({'spaghetti'}), confidence=0.5348837209302326, lift=3.0716905872716267)]), RelationRecord(items=frozenset({'milk', 'mineral water', 'olive oil', 'frozen vegetables'}), support=0.0033333333333333335, ordered_statistics=[OrderedStatistic(items_base=frozenset({'mineral water', 'olive oil', 'frozen vegetables'}), items_add=frozenset({'milk'}), confidence=0.5102040816326531, lift=3.9367598891408417)]), RelationRecord(items=frozenset({'milk', 'mineral water', 'soup', 'frozen vegetables'}), support=0.0030666666666666668, ordered_statistics=[OrderedStatistic(items_base=frozenset({'milk', 'soup', 'frozen vegetables'}), items_add=frozenset({'mineral water'}), confidence=0.7666666666666667, lift=3.2176832680470064), OrderedStatistic(items_base=frozenset({'soup', 'mineral water', 'frozen vegetables'}), items_add=frozenset({'milk'}), confidence=0.605263157894737, lift=4.670240415854452)]), RelationRecord(items=frozenset({'milk', 'nan', 'soup', 'frozen vegetables'}), support=0.004, ordered_statistics=[OrderedStatistic(items_base=frozenset({'soup', 'frozen vegetables'}), items_add=frozenset({'nan', 'milk'}), confidence=0.5, lift=3.858024691358025), OrderedStatistic(items_base=frozenset({'soup', 'nan', 'frozen vegetables'}), items_add=frozenset({'milk'}), confidence=0.5, lift=3.858024691358025)]), RelationRecord(items=frozenset({'tomatoes', 'mineral water', 'spaghetti', 'frozen vegetables'}), support=0.0030666666666666668, ordered_statistics=[OrderedStatistic(items_base=frozenset({'tomatoes', 'mineral water', 'frozen vegetables'}), items_add=frozenset({'spaghetti'}), confidence=0.5227272727272727, lift=3.0018794375609077)]), RelationRecord(items=frozenset({'tomatoes', 'spaghetti', 'ground beef', 'mineral water'}), support=0.0030666666666666668, ordered_statistics=[OrderedStatistic(items_base=frozenset({'tomatoes', 'ground beef', 'mineral water'}), items_add=frozenset({'spaghetti'}), confidence=0.5609756097560976, lift=3.221529152504389)]), RelationRecord(items=frozenset({'shrimp', 'spaghetti', 'ground beef', 'nan'}), support=0.006, ordered_statistics=[OrderedStatistic(items_base=frozenset({'shrimp', 'ground beef'}), items_add=frozenset({'nan', 'spaghetti'}), confidence=0.5232558139534884, lift=3.004914704939635), OrderedStatistic(items_base=frozenset({'shrimp', 'ground beef', 'nan'}), items_add=frozenset({'spaghetti'}), confidence=0.5232558139534884, lift=3.004914704939635)]), RelationRecord(items=frozenset({'tomato sauce', 'spaghetti', 'ground beef', 'nan'}), support=0.0030666666666666668, ordered_statistics=[OrderedStatistic(items_base=frozenset({'tomato sauce', 'ground beef'}), items_add=frozenset({'nan', 'spaghetti'}), confidence=0.5750000000000001, lift=3.302067381316999), OrderedStatistic(items_base=frozenset({'tomato sauce', 'ground beef', 'nan'}), items_add=frozenset({'spaghetti'}), confidence=0.5750000000000001, lift=3.302067381316999)]), RelationRecord(items=frozenset({'tomatoes', 'spaghetti', 'olive oil', 'nan'}), support=0.0044, ordered_statistics=[OrderedStatistic(items_base=frozenset({'tomatoes', 'olive oil'}), items_add=frozenset({'nan', 'spaghetti'}), confidence=0.6111111111111112, lift=3.50944359367024), OrderedStatistic(items_base=frozenset({'tomatoes', 'olive oil', 'nan'}), items_add=frozenset({'spaghetti'}), confidence=0.6111111111111112, lift=3.50944359367024)]), RelationRecord(items=frozenset({'nan', 'spaghetti', 'chocolate', 'ground beef', 'frozen vegetables'}), support=0.0030666666666666668, ordered_statistics=[OrderedStatistic(items_base=frozenset({'chocolate', 'ground beef', 'frozen vegetables'}), items_add=frozenset({'spaghetti', 'nan'}), confidence=0.5348837209302326, lift=3.0716905872716267), OrderedStatistic(items_base=frozenset({'chocolate', 'nan', 'ground beef', 'frozen vegetables'}), items_add=frozenset({'spaghetti'}), confidence=0.5348837209302326, lift=3.0716905872716267)]), RelationRecord(items=frozenset({'milk', 'nan', 'spaghetti', 'ground beef', 'frozen vegetables'}), support=0.0030666666666666668, ordered_statistics=[OrderedStatistic(items_base=frozenset({'milk', 'ground beef', 'frozen vegetables'}), items_add=frozenset({'spaghetti', 'nan'}), confidence=0.5348837209302326, lift=3.0716905872716267), OrderedStatistic(items_base=frozenset({'milk', 'nan', 'ground beef', 'frozen vegetables'}), items_add=frozenset({'spaghetti'}), confidence=0.5348837209302326, lift=3.0716905872716267)]), RelationRecord(items=frozenset({'olive oil', 'milk', 'nan', 'frozen vegetables', 'mineral water'}), support=0.0033333333333333335, ordered_statistics=[OrderedStatistic(items_base=frozenset({'mineral water', 'olive oil', 'frozen vegetables'}), items_add=frozenset({'nan', 'milk'}), confidence=0.5102040816326531, lift=3.9367598891408417), OrderedStatistic(items_base=frozenset({'olive oil', 'mineral water', 'nan', 'frozen vegetables'}), items_add=frozenset({'milk'}), confidence=0.5102040816326531, lift=3.9367598891408417)]), RelationRecord(items=frozenset({'milk', 'nan', 'frozen vegetables', 'soup', 'mineral water'}), support=0.0030666666666666668, ordered_statistics=[OrderedStatistic(items_base=frozenset({'milk', 'soup', 'frozen vegetables'}), items_add=frozenset({'mineral water', 'nan'}), confidence=0.7666666666666667, lift=3.2176832680470064), OrderedStatistic(items_base=frozenset({'soup', 'mineral water', 'frozen vegetables'}), items_add=frozenset({'nan', 'milk'}), confidence=0.605263157894737, lift=4.670240415854452), OrderedStatistic(items_base=frozenset({'milk', 'nan', 'soup', 'frozen vegetables'}), items_add=frozenset({'mineral water'}), confidence=0.7666666666666667, lift=3.2176832680470064), OrderedStatistic(items_base=frozenset({'soup', 'mineral water', 'nan', 'frozen vegetables'}), items_add=frozenset({'milk'}), confidence=0.605263157894737, lift=4.670240415854452)]), RelationRecord(items=frozenset({'nan', 'spaghetti', 'frozen vegetables', 'tomatoes', 'mineral water'}), support=0.0030666666666666668, ordered_statistics=[OrderedStatistic(items_base=frozenset({'tomatoes', 'mineral water', 'frozen vegetables'}), items_add=frozenset({'spaghetti', 'nan'}), confidence=0.5227272727272727, lift=3.0018794375609077), OrderedStatistic(items_base=frozenset({'tomatoes', 'mineral water', 'nan', 'frozen vegetables'}), items_add=frozenset({'spaghetti'}), confidence=0.5227272727272727, lift=3.0018794375609077)]), RelationRecord(items=frozenset({'nan', 'spaghetti', 'tomatoes', 'ground beef', 'mineral water'}), support=0.0030666666666666668, ordered_statistics=[OrderedStatistic(items_base=frozenset({'tomatoes', 'ground beef', 'mineral water'}), items_add=frozenset({'spaghetti', 'nan'}), confidence=0.5609756097560976, lift=3.221529152504389), OrderedStatistic(items_base=frozenset({'tomatoes', 'nan', 'ground beef', 'mineral water'}), items_add=frozenset({'spaghetti'}), confidence=0.5609756097560976, lift=3.221529152504389)])]\n"
     ]
    }
   ],
   "source": [
    "print(list(m))"
   ]
  },
  {
   "cell_type": "code",
   "execution_count": 6,
   "id": "603f0c1e",
   "metadata": {},
   "outputs": [
    {
     "ename": "NameError",
     "evalue": "name 'am' is not defined",
     "output_type": "error",
     "traceback": [
      "\u001b[1;31m---------------------------------------------------------------------------\u001b[0m",
      "\u001b[1;31mNameError\u001b[0m                                 Traceback (most recent call last)",
      "Input \u001b[1;32mIn [6]\u001b[0m, in \u001b[0;36m<cell line: 1>\u001b[1;34m()\u001b[0m\n\u001b[1;32m----> 1\u001b[0m \u001b[38;5;28mprint\u001b[39m(\u001b[43mam\u001b[49m)\n",
      "\u001b[1;31mNameError\u001b[0m: name 'am' is not defined"
     ]
    }
   ],
   "source": [
    "print(am)"
   ]
  },
  {
   "cell_type": "code",
   "execution_count": null,
   "id": "43c3ef89",
   "metadata": {},
   "outputs": [],
   "source": [
    "r"
   ]
  },
  {
   "cell_type": "code",
   "execution_count": null,
   "id": "b55cba5c",
   "metadata": {},
   "outputs": [],
   "source": []
  }
 ],
 "metadata": {
  "kernelspec": {
   "display_name": "Python 3 (ipykernel)",
   "language": "python",
   "name": "python3"
  },
  "language_info": {
   "codemirror_mode": {
    "name": "ipython",
    "version": 3
   },
   "file_extension": ".py",
   "mimetype": "text/x-python",
   "name": "python",
   "nbconvert_exporter": "python",
   "pygments_lexer": "ipython3",
   "version": "3.9.4"
  }
 },
 "nbformat": 4,
 "nbformat_minor": 5
}
