{
 "cells": [
  {
   "cell_type": "code",
   "execution_count": 1,
   "id": "26e88a07",
   "metadata": {},
   "outputs": [],
   "source": [
    "import pandas as pd\n",
    "import numpy as np\n",
    "from apyori import apriori"
   ]
  },
  {
   "cell_type": "code",
   "execution_count": 2,
   "id": "da93696e",
   "metadata": {},
   "outputs": [],
   "source": [
    "df = pd.read_csv('Market_Basket_Optimisation.csv')"
   ]
  },
  {
   "cell_type": "code",
   "execution_count": 6,
   "id": "de55ce21",
   "metadata": {},
   "outputs": [
    {
     "ename": "SyntaxError",
     "evalue": "closing parenthesis ']' does not match opening parenthesis '(' (708360573.py, line 4)",
     "output_type": "error",
     "traceback": [
      "\u001b[1;36m  Input \u001b[1;32mIn [6]\u001b[1;36m\u001b[0m\n\u001b[1;33m    r.append([str(tmp[i][j]) for j in range(df.shape[1]])\u001b[0m\n\u001b[1;37m                                                       ^\u001b[0m\n\u001b[1;31mSyntaxError\u001b[0m\u001b[1;31m:\u001b[0m closing parenthesis ']' does not match opening parenthesis '('\n"
     ]
    }
   ],
   "source": [
    "r = []\n",
    "tmp = df.values;\n",
    "for i in range(df.shape[0]):\n",
    "    r.append([str(tmp[i][j]) for j in range(df.shape[1])]"
   ]
  },
  {
   "cell_type": "code",
   "execution_count": 4,
   "id": "2ff0ec93",
   "metadata": {},
   "outputs": [],
   "source": [
    "m = apriori(r, min_support = 0.003, min_confidence =0.5, min_lift = 3, min_length = 2)"
   ]
  },
  {
   "cell_type": "code",
   "execution_count": 5,
   "id": "2568e4c4",
   "metadata": {},
   "outputs": [
    {
     "ename": "TypeError",
     "evalue": "unhashable type: 'list'",
     "output_type": "error",
     "traceback": [
      "\u001b[1;31m---------------------------------------------------------------------------\u001b[0m",
      "\u001b[1;31mTypeError\u001b[0m                                 Traceback (most recent call last)",
      "Input \u001b[1;32mIn [5]\u001b[0m, in \u001b[0;36m<cell line: 1>\u001b[1;34m()\u001b[0m\n\u001b[1;32m----> 1\u001b[0m \u001b[38;5;28mprint\u001b[39m(\u001b[38;5;28;43mlist\u001b[39;49m\u001b[43m(\u001b[49m\u001b[43mm\u001b[49m\u001b[43m)\u001b[49m)\n",
      "File \u001b[1;32m~\\AppData\\Local\\Programs\\Python\\Python39\\lib\\site-packages\\apyori.py:281\u001b[0m, in \u001b[0;36mapriori\u001b[1;34m(transactions, **kwargs)\u001b[0m\n\u001b[0;32m    277\u001b[0m _filter_ordered_statistics \u001b[38;5;241m=\u001b[39m kwargs\u001b[38;5;241m.\u001b[39mget(\n\u001b[0;32m    278\u001b[0m     \u001b[38;5;124m'\u001b[39m\u001b[38;5;124m_filter_ordered_statistics\u001b[39m\u001b[38;5;124m'\u001b[39m, filter_ordered_statistics)\n\u001b[0;32m    280\u001b[0m \u001b[38;5;66;03m# Calculate supports.\u001b[39;00m\n\u001b[1;32m--> 281\u001b[0m transaction_manager \u001b[38;5;241m=\u001b[39m \u001b[43mTransactionManager\u001b[49m\u001b[38;5;241;43m.\u001b[39;49m\u001b[43mcreate\u001b[49m\u001b[43m(\u001b[49m\u001b[43mtransactions\u001b[49m\u001b[43m)\u001b[49m\n\u001b[0;32m    282\u001b[0m support_records \u001b[38;5;241m=\u001b[39m _gen_support_records(\n\u001b[0;32m    283\u001b[0m     transaction_manager, min_support, max_length\u001b[38;5;241m=\u001b[39mmax_length)\n\u001b[0;32m    285\u001b[0m \u001b[38;5;66;03m# Calculate ordered stats.\u001b[39;00m\n",
      "File \u001b[1;32m~\\AppData\\Local\\Programs\\Python\\Python39\\lib\\site-packages\\apyori.py:121\u001b[0m, in \u001b[0;36mTransactionManager.create\u001b[1;34m(transactions)\u001b[0m\n\u001b[0;32m    119\u001b[0m \u001b[38;5;28;01mif\u001b[39;00m \u001b[38;5;28misinstance\u001b[39m(transactions, TransactionManager):\n\u001b[0;32m    120\u001b[0m     \u001b[38;5;28;01mreturn\u001b[39;00m transactions\n\u001b[1;32m--> 121\u001b[0m \u001b[38;5;28;01mreturn\u001b[39;00m \u001b[43mTransactionManager\u001b[49m\u001b[43m(\u001b[49m\u001b[43mtransactions\u001b[49m\u001b[43m)\u001b[49m\n",
      "File \u001b[1;32m~\\AppData\\Local\\Programs\\Python\\Python39\\lib\\site-packages\\apyori.py:44\u001b[0m, in \u001b[0;36mTransactionManager.__init__\u001b[1;34m(self, transactions)\u001b[0m\n\u001b[0;32m     41\u001b[0m \u001b[38;5;28mself\u001b[39m\u001b[38;5;241m.\u001b[39m__transaction_index_map \u001b[38;5;241m=\u001b[39m {}\n\u001b[0;32m     43\u001b[0m \u001b[38;5;28;01mfor\u001b[39;00m transaction \u001b[38;5;129;01min\u001b[39;00m transactions:\n\u001b[1;32m---> 44\u001b[0m     \u001b[38;5;28;43mself\u001b[39;49m\u001b[38;5;241;43m.\u001b[39;49m\u001b[43madd_transaction\u001b[49m\u001b[43m(\u001b[49m\u001b[43mtransaction\u001b[49m\u001b[43m)\u001b[49m\n",
      "File \u001b[1;32m~\\AppData\\Local\\Programs\\Python\\Python39\\lib\\site-packages\\apyori.py:54\u001b[0m, in \u001b[0;36mTransactionManager.add_transaction\u001b[1;34m(self, transaction)\u001b[0m\n\u001b[0;32m     47\u001b[0m \u001b[38;5;124;03m\"\"\"\u001b[39;00m\n\u001b[0;32m     48\u001b[0m \u001b[38;5;124;03mAdd a transaction.\u001b[39;00m\n\u001b[0;32m     49\u001b[0m \n\u001b[0;32m     50\u001b[0m \u001b[38;5;124;03mArguments:\u001b[39;00m\n\u001b[0;32m     51\u001b[0m \u001b[38;5;124;03m    transaction -- A transaction as an iterable object (eg. ['A', 'B']).\u001b[39;00m\n\u001b[0;32m     52\u001b[0m \u001b[38;5;124;03m\"\"\"\u001b[39;00m\n\u001b[0;32m     53\u001b[0m \u001b[38;5;28;01mfor\u001b[39;00m item \u001b[38;5;129;01min\u001b[39;00m transaction:\n\u001b[1;32m---> 54\u001b[0m     \u001b[38;5;28;01mif\u001b[39;00m \u001b[43mitem\u001b[49m\u001b[43m \u001b[49m\u001b[38;5;129;43;01mnot\u001b[39;49;00m\u001b[43m \u001b[49m\u001b[38;5;129;43;01min\u001b[39;49;00m\u001b[43m \u001b[49m\u001b[38;5;28;43mself\u001b[39;49m\u001b[38;5;241;43m.\u001b[39;49m\u001b[43m__transaction_index_map\u001b[49m:\n\u001b[0;32m     55\u001b[0m         \u001b[38;5;28mself\u001b[39m\u001b[38;5;241m.\u001b[39m__items\u001b[38;5;241m.\u001b[39mappend(item)\n\u001b[0;32m     56\u001b[0m         \u001b[38;5;28mself\u001b[39m\u001b[38;5;241m.\u001b[39m__transaction_index_map[item] \u001b[38;5;241m=\u001b[39m \u001b[38;5;28mset\u001b[39m()\n",
      "\u001b[1;31mTypeError\u001b[0m: unhashable type: 'list'"
     ]
    }
   ],
   "source": [
    "print(list(m))"
   ]
  },
  {
   "cell_type": "code",
   "execution_count": null,
   "id": "5167d4c9",
   "metadata": {},
   "outputs": [],
   "source": [
    "print(am)"
   ]
  },
  {
   "cell_type": "code",
   "execution_count": null,
   "id": "4481c867",
   "metadata": {},
   "outputs": [],
   "source": [
    "r"
   ]
  },
  {
   "cell_type": "code",
   "execution_count": null,
   "id": "731a05fe",
   "metadata": {},
   "outputs": [],
   "source": []
  }
 ],
 "metadata": {
  "kernelspec": {
   "display_name": "Python 3 (ipykernel)",
   "language": "python",
   "name": "python3"
  },
  "language_info": {
   "codemirror_mode": {
    "name": "ipython",
    "version": 3
   },
   "file_extension": ".py",
   "mimetype": "text/x-python",
   "name": "python",
   "nbconvert_exporter": "python",
   "pygments_lexer": "ipython3",
   "version": "3.9.4"
  }
 },
 "nbformat": 4,
 "nbformat_minor": 5
}
