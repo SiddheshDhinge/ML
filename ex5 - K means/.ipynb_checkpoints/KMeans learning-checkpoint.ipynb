{
 "cells": [
  {
   "cell_type": "code",
   "execution_count": null,
   "id": "f22990a0",
   "metadata": {},
   "outputs": [],
   "source": [
    "import numpy as np\n",
    "import pandas as pd\n",
    "import matplotlib.pyplot as plt\n",
    "from sklearn.cluster import KMeans\n",
    "from sklearn.model_selection import train_test_split"
   ]
  },
  {
   "cell_type": "code",
   "execution_count": null,
   "id": "09fd4f9d",
   "metadata": {},
   "outputs": [],
   "source": [
    "df = pd.read_csv('Mall_Customers.csv')"
   ]
  },
  {
   "cell_type": "code",
   "execution_count": null,
   "id": "6bc68856",
   "metadata": {},
   "outputs": [],
   "source": [
    "df.isna().sum().sum()"
   ]
  },
  {
   "cell_type": "code",
   "execution_count": null,
   "id": "21506bbf",
   "metadata": {},
   "outputs": [],
   "source": [
    "df.head()"
   ]
  },
  {
   "cell_type": "code",
   "execution_count": null,
   "id": "b0c22949",
   "metadata": {},
   "outputs": [],
   "source": [
    "df = df.iloc[:, 1:]\n",
    "df.head()"
   ]
  },
  {
   "cell_type": "code",
   "execution_count": null,
   "id": "b497018a",
   "metadata": {},
   "outputs": [],
   "source": [
    "X = df.iloc[:, 2:]"
   ]
  },
  {
   "cell_type": "code",
   "execution_count": null,
   "id": "8fdc9fc6",
   "metadata": {},
   "outputs": [],
   "source": [
    "Xtrain, Xtest = train_test_split(X, train_size=0.75, test_size=0.25)"
   ]
  },
  {
   "cell_type": "code",
   "execution_count": null,
   "id": "c51c14a3",
   "metadata": {},
   "outputs": [],
   "source": [
    "sse = {}\n",
    "for k in range(1, 10):\n",
    "    model = KMeans(n_clusters=k, max_iter=50)\n",
    "    model.fit(X)\n",
    "    sse[k] = model.inertia_\n",
    "    \n",
    "plt.figure(figsize = (9*1, 6*1))\n",
    "plt.plot(list(sse.keys()), list(sse.values()))\n",
    "plt.xlabel('Number of Clusters')\n",
    "plt.ylabel('Sum of Squared Error')\n",
    "plt.show()"
   ]
  },
  {
   "cell_type": "code",
   "execution_count": null,
   "id": "5e1b7e51",
   "metadata": {},
   "outputs": [],
   "source": [
    "model = KMeans(n_clusters=5, max_iter=50)\n",
    "model = model.fit(Xtrain)"
   ]
  },
  {
   "cell_type": "code",
   "execution_count": null,
   "id": "40c18f33",
   "metadata": {},
   "outputs": [],
   "source": [
    "fig, axis = plt.subplots(1, 2, figsize = (9*2, 6*1))\n",
    "axis[0].scatter(Xtrain['Annual Income (k$)'], Xtrain['Spending Score (1-100)'])\n",
    "axis[0].set_title('Before KMeans')\n",
    "axis[0].set_xlabel('Annual Income (k$)')\n",
    "axis[0].set_ylabel('Spending Score (1-100)')\n",
    "\n",
    "axis[1].scatter(Xtrain['Annual Income (k$)'], Xtrain['Spending Score (1-100)'], c=model.labels_)\n",
    "axis[1].set_title('After KMeans')\n",
    "axis[1].set_xlabel('Annual Income (k$)')\n",
    "axis[1].set_ylabel('Spending Score (1-100)')\n",
    "\n",
    "plt.show()"
   ]
  },
  {
   "cell_type": "code",
   "execution_count": null,
   "id": "056bdd90",
   "metadata": {},
   "outputs": [],
   "source": [
    "model = KMeans(n_clusters=5, max_iter=50)\n",
    "model = model.fit(Xtest)"
   ]
  },
  {
   "cell_type": "code",
   "execution_count": null,
   "id": "6bb4a03f",
   "metadata": {},
   "outputs": [],
   "source": [
    "fig, axis = plt.subplots(1, 2, figsize = (9*2, 6*1))\n",
    "axis[0].scatter(Xtest['Annual Income (k$)'], Xtest['Spending Score (1-100)'])\n",
    "axis[0].set_title('Before KMeans')\n",
    "axis[0].set_xlabel('Annual Income (k$)')\n",
    "axis[0].set_ylabel('Spending Score (1-100)')\n",
    "\n",
    "axis[1].scatter(Xtest['Annual Income (k$)'], Xtest['Spending Score (1-100)'], c=model.labels_)\n",
    "axis[1].set_title('After KMeans')\n",
    "axis[1].set_xlabel('Annual Income (k$)')\n",
    "axis[1].set_ylabel('Spending Score (1-100)')\n",
    "\n",
    "plt.show()"
   ]
  },
  {
   "cell_type": "code",
   "execution_count": null,
   "id": "a093c93e",
   "metadata": {},
   "outputs": [],
   "source": [
    "X_ = X[['Annual Income (k$)', 'Annual Income (k$)']]"
   ]
  },
  {
   "cell_type": "code",
   "execution_count": null,
   "id": "b0269b75",
   "metadata": {},
   "outputs": [],
   "source": [
    "model = KMeans(n_clusters=5, max_iter=50)\n",
    "model = model.fit(X_)"
   ]
  },
  {
   "cell_type": "code",
   "execution_count": null,
   "id": "d3a69960",
   "metadata": {},
   "outputs": [],
   "source": [
    "fig, axis = plt.subplots(1, 2, figsize = (9*2, 6*1))\n",
    "axis[0].scatter(X_['Annual Income (k$)'], X_['Annual Income (k$)'])\n",
    "axis[0].set_title('Before KMeans')\n",
    "axis[0].set_xlabel('Annual Income (k$)')\n",
    "axis[0].set_ylabel('Annual Income (k$)')\n",
    "\n",
    "axis[1].scatter(X_['Annual Income (k$)'], X_['Annual Income (k$)'], c=model.labels_)\n",
    "axis[1].set_title('After KMeans')\n",
    "axis[1].set_xlabel('Annual Income (k$)')\n",
    "axis[1].set_ylabel('Annual Income (k$)')\n",
    "\n",
    "plt.show()"
   ]
  },
  {
   "cell_type": "code",
   "execution_count": null,
   "id": "c9025226",
   "metadata": {},
   "outputs": [],
   "source": [
    "len(model.labels_)"
   ]
  },
  {
   "cell_type": "code",
   "execution_count": null,
   "id": "43a10ced",
   "metadata": {},
   "outputs": [],
   "source": [
    "X_.shape"
   ]
  },
  {
   "cell_type": "code",
   "execution_count": null,
   "id": "2864f576",
   "metadata": {},
   "outputs": [],
   "source": []
  }
 ],
 "metadata": {
  "kernelspec": {
   "display_name": "Python 3 (ipykernel)",
   "language": "python",
   "name": "python3"
  },
  "language_info": {
   "codemirror_mode": {
    "name": "ipython",
    "version": 3
   },
   "file_extension": ".py",
   "mimetype": "text/x-python",
   "name": "python",
   "nbconvert_exporter": "python",
   "pygments_lexer": "ipython3",
   "version": "3.9.4"
  }
 },
 "nbformat": 4,
 "nbformat_minor": 5
}
